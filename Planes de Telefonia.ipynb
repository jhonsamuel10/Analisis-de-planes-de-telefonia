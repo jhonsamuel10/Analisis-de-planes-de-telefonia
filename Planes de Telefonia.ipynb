{
 "cells": [
  {
   "cell_type": "markdown",
   "metadata": {
    "id": "3rYiDeEH0q0f"
   },
   "source": [
    "# ¿Cuál es la mejor tarifa?\n",
    "\n",
    " La empresa ofrece a sus clientes dos tarifas de prepago, Surf y Ultimate. El departamento comercial quiere saber cuál de las tarifas genera más ingresos para poder ajustar el presupuesto de publicidad.\n",
    "\n",
    "Vamos a realizar un análisis preliminar de las tarifas basado en una selección de clientes relativamente pequeña. Tendrás los datos de 500 clientes de Megaline: quiénes son los clientes, de dónde son, qué tarifa usan, así como la cantidad de llamadas que hicieron y los mensajes de texto que enviaron en 2018. "
   ]
  },
  {
   "cell_type": "markdown",
   "metadata": {
    "id": "MQi4IPy70q0y"
   },
   "source": [
    "## Inicialización"
   ]
  },
  {
   "cell_type": "code",
   "execution_count": null,
   "metadata": {
    "id": "MtYIuBxu0q0z"
   },
   "outputs": [],
   "source": [
    "import pandas as pd \n",
    "from scipy import stats as st \n",
    "from matplotlib import pyplot as plt \n",
    "\n",
    "\n",
    "\n"
   ]
  },
  {
   "cell_type": "markdown",
   "metadata": {
    "id": "4ysWWC5i0q00"
   },
   "source": [
    "## Cargar datos"
   ]
  },
  {
   "cell_type": "code",
   "execution_count": null,
   "metadata": {
    "id": "CCqPW7rS0q01"
   },
   "outputs": [],
   "source": [
    "data_calls= pd.read_csv('/datasets/megaline_calls.csv')\n",
    "data_internet=pd.read_csv('/datasets/megaline_internet.csv')\n",
    "data_messages=pd.read_csv('/datasets/megaline_messages.csv')\n",
    "data_plans=pd.read_csv('/datasets/megaline_plans.csv')\n",
    "data_users=pd.read_csv('/datasets/megaline_users.csv')\n",
    "\n"
   ]
  },
  {
   "cell_type": "markdown",
   "metadata": {
    "id": "69qqoJ3r0q01"
   },
   "source": [
    "## Preparar los datos"
   ]
  },
  {
   "cell_type": "markdown",
   "metadata": {
    "id": "ohBhimvH0q01"
   },
   "source": [
    "## Tarifas"
   ]
  },
  {
   "cell_type": "code",
   "execution_count": null,
   "metadata": {
    "id": "GptqP3Q40q02"
   },
   "outputs": [
    {
     "name": "stdout",
     "output_type": "stream",
     "text": [
      "<class 'pandas.core.frame.DataFrame'>\n",
      "RangeIndex: 2 entries, 0 to 1\n",
      "Data columns (total 8 columns):\n",
      " #   Column                 Non-Null Count  Dtype  \n",
      "---  ------                 --------------  -----  \n",
      " 0   messages_included      2 non-null      int64  \n",
      " 1   mb_per_month_included  2 non-null      int64  \n",
      " 2   minutes_included       2 non-null      int64  \n",
      " 3   usd_monthly_pay        2 non-null      int64  \n",
      " 4   usd_per_gb             2 non-null      int64  \n",
      " 5   usd_per_message        2 non-null      float64\n",
      " 6   usd_per_minute         2 non-null      float64\n",
      " 7   plan_name              2 non-null      object \n",
      "dtypes: float64(2), int64(5), object(1)\n",
      "memory usage: 256.0+ bytes\n",
      "None\n"
     ]
    }
   ],
   "source": [
    "print(data_plans.info())"
   ]
  },
  {
   "cell_type": "code",
   "execution_count": null,
   "metadata": {
    "id": "64xzjwL70q02"
   },
   "outputs": [
    {
     "name": "stdout",
     "output_type": "stream",
     "text": [
      "   messages_included  mb_per_month_included  minutes_included  \\\n",
      "0                 50                  15360               500   \n",
      "1               1000                  30720              3000   \n",
      "\n",
      "   usd_monthly_pay  usd_per_gb  usd_per_message  usd_per_minute plan_name  \n",
      "0               20          10             0.03            0.03      surf  \n",
      "1               70           7             0.01            0.01  ultimate  \n"
     ]
    }
   ],
   "source": [
    "print(data_plans.head(2))\n",
    "\n"
   ]
  },
  {
   "cell_type": "markdown",
   "metadata": {
    "id": "1n2X6WXf0q04"
   },
   "source": [
    "## Usuarios/as"
   ]
  },
  {
   "cell_type": "code",
   "execution_count": null,
   "metadata": {
    "id": "2NgjWFqx0q05"
   },
   "outputs": [
    {
     "name": "stdout",
     "output_type": "stream",
     "text": [
      "<class 'pandas.core.frame.DataFrame'>\n",
      "RangeIndex: 500 entries, 0 to 499\n",
      "Data columns (total 8 columns):\n",
      " #   Column      Non-Null Count  Dtype \n",
      "---  ------      --------------  ----- \n",
      " 0   user_id     500 non-null    int64 \n",
      " 1   first_name  500 non-null    object\n",
      " 2   last_name   500 non-null    object\n",
      " 3   age         500 non-null    int64 \n",
      " 4   city        500 non-null    object\n",
      " 5   reg_date    500 non-null    object\n",
      " 6   plan        500 non-null    object\n",
      " 7   churn_date  34 non-null     object\n",
      "dtypes: int64(2), object(6)\n",
      "memory usage: 31.4+ KB\n"
     ]
    }
   ],
   "source": [
    "data_users.info()\n",
    "\n"
   ]
  },
  {
   "cell_type": "code",
   "execution_count": null,
   "metadata": {
    "id": "1IN1L9uh0q05"
   },
   "outputs": [
    {
     "name": "stdout",
     "output_type": "stream",
     "text": [
      "     user_id first_name last_name  age  \\\n",
      "462     1462     Lesley   Workman   20   \n",
      "8       1008      Emely   Hoffman   53   \n",
      "411     1411        Man   Fleming   64   \n",
      "476     1476    Tammara    Dorsey   24   \n",
      "121     1121  Kathaleen    Albert   34   \n",
      "\n",
      "                                              city    reg_date      plan  \\\n",
      "462           Las Vegas-Henderson-Paradise, NV MSA  2018-09-05  ultimate   \n",
      "8                Orlando-Kissimmee-Sanford, FL MSA  2018-08-03  ultimate   \n",
      "411                              Rochester, NY MSA  2018-08-10      surf   \n",
      "476         Los Angeles-Long Beach-Anaheim, CA MSA  2018-06-10  ultimate   \n",
      "121  Miami-Fort Lauderdale-West Palm Beach, FL MSA  2018-03-13      surf   \n",
      "\n",
      "    churn_date  \n",
      "462        NaN  \n",
      "8          NaN  \n",
      "411        NaN  \n",
      "476        NaN  \n",
      "121        NaN  \n"
     ]
    }
   ],
   "source": [
    "print(data_users.sample(5))"
   ]
  },
  {
   "cell_type": "markdown",
   "metadata": {
    "id": "BX5FQh_I0q06"
   },
   "source": [
    "### Corregir los datos"
   ]
  },
  {
   "cell_type": "code",
   "execution_count": null,
   "metadata": {
    "id": "yUqX-K0C0q07"
   },
   "outputs": [
    {
     "name": "stdout",
     "output_type": "stream",
     "text": [
      "419    Actual\n",
      "360    Actual\n",
      "166    Actual\n",
      "65     Actual\n",
      "387    Actual\n",
      "Name: churn_date, dtype: object\n"
     ]
    }
   ],
   "source": [
    "data_users['churn_date']=data_users['churn_date'].fillna('Actual')\n",
    "print(data_users['churn_date'].sample(5))"
   ]
  },
  {
   "cell_type": "markdown",
   "metadata": {
    "id": "ycwuARJp0q07"
   },
   "source": [
    "### Enriquecer los datos"
   ]
  },
  {
   "cell_type": "code",
   "execution_count": null,
   "metadata": {},
   "outputs": [
    {
     "name": "stdout",
     "output_type": "stream",
     "text": [
      "   user_id first_name  last_name  age                                   city  \\\n",
      "0     1000   Anamaria      Bauer   45  Atlanta-Sandy Springs-Roswell, GA MSA   \n",
      "1     1001     Mickey  Wilkerson   28        Seattle-Tacoma-Bellevue, WA MSA   \n",
      "\n",
      "    reg_date      plan churn_date  \n",
      "0 2018-12-24  ultimate     Actual  \n",
      "1 2018-08-13      surf     Actual  \n"
     ]
    }
   ],
   "source": [
    "data_users['reg_date']=pd.to_datetime(data_users['reg_date'],format='%Y-%m-%d')\n",
    "\n",
    "print(data_users.head(2))"
   ]
  },
  {
   "cell_type": "markdown",
   "metadata": {},
   "source": [
    "Comentario: Se transforma el registro de datos a un datatime, para una mejor comprension y visualizacion."
   ]
  },
  {
   "cell_type": "markdown",
   "metadata": {
    "id": "o7MeKCid0q08"
   },
   "source": [
    "## Llamadas"
   ]
  },
  {
   "cell_type": "code",
   "execution_count": null,
   "metadata": {
    "id": "6dDlnoDm0q08"
   },
   "outputs": [
    {
     "name": "stdout",
     "output_type": "stream",
     "text": [
      "<class 'pandas.core.frame.DataFrame'>\n",
      "RangeIndex: 137735 entries, 0 to 137734\n",
      "Data columns (total 4 columns):\n",
      " #   Column     Non-Null Count   Dtype  \n",
      "---  ------     --------------   -----  \n",
      " 0   id         137735 non-null  object \n",
      " 1   user_id    137735 non-null  int64  \n",
      " 2   call_date  137735 non-null  object \n",
      " 3   duration   137735 non-null  float64\n",
      "dtypes: float64(1), int64(1), object(2)\n",
      "memory usage: 4.2+ MB\n"
     ]
    }
   ],
   "source": [
    "data_calls.info()\n"
   ]
  },
  {
   "cell_type": "code",
   "execution_count": null,
   "metadata": {
    "id": "kuh1vlNB0q09"
   },
   "outputs": [
    {
     "name": "stdout",
     "output_type": "stream",
     "text": [
      "         id  user_id   call_date  duration\n",
      "0   1000_93     1000  2018-12-27      8.52\n",
      "1  1000_145     1000  2018-12-27     13.66\n",
      "2  1000_247     1000  2018-12-27     14.48\n",
      "3  1000_309     1000  2018-12-28      5.76\n",
      "4  1000_380     1000  2018-12-30      4.22\n",
      "5  1000_388     1000  2018-12-31      2.20\n",
      "6  1000_510     1000  2018-12-27      5.75\n",
      "7  1000_521     1000  2018-12-28     14.18\n",
      "8  1000_530     1000  2018-12-28      5.77\n",
      "9  1000_544     1000  2018-12-26      4.40\n"
     ]
    }
   ],
   "source": [
    "print(data_calls.head(10)) \n"
   ]
  },
  {
   "cell_type": "markdown",
   "metadata": {},
   "source": [
    "Observaciones: No se evidencian datos ausentes, se cambio el formato de fecha de call_date para extraer la informacion del mes al que corresponde y de acuerdo a las indicaciones se redondea la duracion."
   ]
  },
  {
   "cell_type": "markdown",
   "metadata": {
    "id": "S7hzxmbX0q0-"
   },
   "source": [
    "### Corregir los datos"
   ]
  },
  {
   "cell_type": "code",
   "execution_count": null,
   "metadata": {
    "id": "S2r8xA4f0q0-"
   },
   "outputs": [
    {
     "name": "stdout",
     "output_type": "stream",
     "text": [
      "          id  user_id  call_date  duration  duration_redondeada\n",
      "0    1000_93     1000 2018-12-27      8.52                    9\n",
      "1   1000_145     1000 2018-12-27     13.66                   14\n",
      "2   1000_247     1000 2018-12-27     14.48                   15\n",
      "3   1000_309     1000 2018-12-28      5.76                    6\n",
      "4   1000_380     1000 2018-12-30      4.22                    5\n",
      "5   1000_388     1000 2018-12-31      2.20                    3\n",
      "6   1000_510     1000 2018-12-27      5.75                    6\n",
      "7   1000_521     1000 2018-12-28     14.18                   15\n",
      "8   1000_530     1000 2018-12-28      5.77                    6\n",
      "9   1000_544     1000 2018-12-26      4.40                    5\n",
      "10  1000_693     1000 2018-12-31      4.31                    5\n",
      "11  1000_705     1000 2018-12-31     12.78                   13\n",
      "12  1000_735     1000 2018-12-29      1.70                    2\n",
      "13  1000_778     1000 2018-12-28      3.29                    4\n",
      "14  1000_826     1000 2018-12-26      9.96                   10\n",
      "15  1000_842     1000 2018-12-27      5.85                    6\n",
      "16    1001_0     1001 2018-09-06     10.06                   11\n",
      "17    1001_1     1001 2018-10-12      1.00                    1\n",
      "18    1001_2     1001 2018-10-17     15.83                   16\n",
      "19    1001_4     1001 2018-12-05      0.00                    0\n"
     ]
    }
   ],
   "source": [
    "data_calls['call_date']=pd.to_datetime(data_calls['call_date'],format='%Y-%m-%d')\n",
    "data_calls['duration_redondeada']= data_calls['duration'].apply(lambda  x:math.ceil(x))\n",
    "print(data_calls.head(20))\n"
   ]
  },
  {
   "cell_type": "markdown",
   "metadata": {
    "id": "KrMgTrlG0q0_"
   },
   "source": [
    "### Enriquecer los datos"
   ]
  },
  {
   "cell_type": "code",
   "execution_count": null,
   "metadata": {
    "id": "iZ1avpA_0q0_"
   },
   "outputs": [
    {
     "name": "stdout",
     "output_type": "stream",
     "text": [
      "         id  user_id  call_date  duration  duration_redondeada  month\n",
      "0   1000_93     1000 2018-12-27   1000_93                    9     12\n",
      "1  1000_145     1000 2018-12-27  1000_145                   14     12\n",
      "2  1000_247     1000 2018-12-27  1000_247                   15     12\n",
      "3  1000_309     1000 2018-12-28  1000_309                    6     12\n",
      "4  1000_380     1000 2018-12-30  1000_380                    5     12\n"
     ]
    }
   ],
   "source": [
    "data_calls['month']=data_calls['call_date'].dt.month\n",
    "data_calls['duration']=data_calls.drop(data_calls[data_calls['duration']==0].index)\n",
    "print(data_calls.head(5))"
   ]
  },
  {
   "cell_type": "markdown",
   "metadata": {},
   "source": [
    "Comentarios: Podriamos decir que son datos atipicos, podrian ser llamadas a contactos equivocados o personas que no contestaron las llamadas, sin embargo teniendo en cuenta que no tienen ningun efecto en el analisis, se procedera a eliminarlas de la data."
   ]
  },
  {
   "cell_type": "markdown",
   "metadata": {
    "id": "mOUZSi180q0_"
   },
   "source": [
    "## Mensajes"
   ]
  },
  {
   "cell_type": "code",
   "execution_count": null,
   "metadata": {
    "id": "R-bYJpdV0q1A"
   },
   "outputs": [
    {
     "name": "stdout",
     "output_type": "stream",
     "text": [
      "<class 'pandas.core.frame.DataFrame'>\n",
      "RangeIndex: 76051 entries, 0 to 76050\n",
      "Data columns (total 3 columns):\n",
      " #   Column        Non-Null Count  Dtype \n",
      "---  ------        --------------  ----- \n",
      " 0   id            76051 non-null  object\n",
      " 1   user_id       76051 non-null  int64 \n",
      " 2   message_date  76051 non-null  object\n",
      "dtypes: int64(1), object(2)\n",
      "memory usage: 1.7+ MB\n"
     ]
    }
   ],
   "source": [
    "data_messages.info()\n",
    "\n"
   ]
  },
  {
   "cell_type": "code",
   "execution_count": null,
   "metadata": {
    "id": "mCEl2iGE0q1A"
   },
   "outputs": [
    {
     "name": "stdout",
     "output_type": "stream",
     "text": [
      "             id  user_id message_date\n",
      "39079  1254_989     1254   2018-09-17\n",
      "42273  1273_390     1273   2018-11-03\n",
      "47081  1320_325     1320   2018-12-20\n",
      "28402  1174_192     1174   2018-09-13\n",
      "17455  1114_387     1114   2018-10-29\n"
     ]
    }
   ],
   "source": [
    "print(data_messages.sample(5))\n",
    "\n"
   ]
  },
  {
   "cell_type": "markdown",
   "metadata": {},
   "source": [
    "Comentarios: No se ven datos ausentes, y se extrae el mes de tal forma que se pueda validar el cobro."
   ]
  },
  {
   "cell_type": "markdown",
   "metadata": {
    "id": "Sprfak900q1B"
   },
   "source": [
    "### Corregir los datos"
   ]
  },
  {
   "cell_type": "code",
   "execution_count": null,
   "metadata": {
    "id": "vsllvkoa0q1B"
   },
   "outputs": [],
   "source": [
    "data_messages['message_date']=pd.to_datetime(data_messages['message_date'],format='%Y-%m-%d')"
   ]
  },
  {
   "cell_type": "markdown",
   "metadata": {
    "id": "HvLid7iD0q1B"
   },
   "source": [
    "### Enriquecer los datos"
   ]
  },
  {
   "cell_type": "markdown",
   "metadata": {
    "id": "8nhPFKIe0q1C"
   },
   "source": [
    "[Agrega factores adicionales a los datos si crees que pudieran ser útiles.]"
   ]
  },
  {
   "cell_type": "code",
   "execution_count": null,
   "metadata": {
    "id": "zYEXZac10q1C"
   },
   "outputs": [
    {
     "name": "stdout",
     "output_type": "stream",
     "text": [
      "         id  user_id message_date  month\n",
      "0  1000_125     1000   2018-12-27     12\n",
      "1  1000_160     1000   2018-12-31     12\n",
      "2  1000_223     1000   2018-12-31     12\n",
      "3  1000_251     1000   2018-12-27     12\n",
      "4  1000_255     1000   2018-12-26     12\n"
     ]
    }
   ],
   "source": [
    "data_messages['month']=data_messages['message_date'].dt.month\n",
    "print(data_messages.head(5))\n",
    "\n"
   ]
  },
  {
   "cell_type": "markdown",
   "metadata": {
    "id": "bStkaxn40q1C"
   },
   "source": [
    "## Internet"
   ]
  },
  {
   "cell_type": "code",
   "execution_count": null,
   "metadata": {
    "id": "e-Uz5qyn0q1C"
   },
   "outputs": [
    {
     "name": "stdout",
     "output_type": "stream",
     "text": [
      "<class 'pandas.core.frame.DataFrame'>\n",
      "RangeIndex: 104825 entries, 0 to 104824\n",
      "Data columns (total 4 columns):\n",
      " #   Column        Non-Null Count   Dtype  \n",
      "---  ------        --------------   -----  \n",
      " 0   id            104825 non-null  object \n",
      " 1   user_id       104825 non-null  int64  \n",
      " 2   session_date  104825 non-null  object \n",
      " 3   mb_used       104825 non-null  float64\n",
      "dtypes: float64(1), int64(1), object(2)\n",
      "memory usage: 3.2+ MB\n"
     ]
    }
   ],
   "source": [
    "data_internet.info()\n"
   ]
  },
  {
   "cell_type": "code",
   "execution_count": null,
   "metadata": {
    "id": "9r3x_XLw0q1C"
   },
   "outputs": [
    {
     "name": "stdout",
     "output_type": "stream",
     "text": [
      "         id  user_id session_date  mb_used\n",
      "0   1000_13     1000   2018-12-29    89.86\n",
      "1  1000_204     1000   2018-12-31     0.00\n",
      "2  1000_379     1000   2018-12-28   660.40\n",
      "3  1000_413     1000   2018-12-26   270.99\n",
      "4  1000_442     1000   2018-12-27   880.22\n",
      "5    1001_0     1001   2018-08-24   284.68\n",
      "6    1001_3     1001   2018-12-09   656.04\n",
      "7    1001_4     1001   2018-11-04    16.97\n",
      "8   1001_10     1001   2018-11-27   135.18\n",
      "9   1001_15     1001   2018-12-13   761.92\n"
     ]
    }
   ],
   "source": [
    "print(data_internet.head(10))"
   ]
  },
  {
   "cell_type": "markdown",
   "metadata": {},
   "source": [
    "Observaciones: Se evidencian que todas las variables tienen el mismo numero de entradas lo que nos indica que no hay datos ausentes."
   ]
  },
  {
   "cell_type": "markdown",
   "metadata": {
    "id": "yA0tkPFg0q1D"
   },
   "source": [
    "### Corregir los datos"
   ]
  },
  {
   "cell_type": "code",
   "execution_count": null,
   "metadata": {
    "id": "zVeanzdd0q1E"
   },
   "outputs": [],
   "source": [
    "data_internet['session_date']=pd.to_datetime(data_internet['session_date'],format='%Y-%m-%d')"
   ]
  },
  {
   "cell_type": "markdown",
   "metadata": {
    "id": "e8_mLF4a0q1E"
   },
   "source": [
    "### Enriquecer los datos"
   ]
  },
  {
   "cell_type": "code",
   "execution_count": null,
   "metadata": {
    "id": "ESiYPIEK0q1E"
   },
   "outputs": [
    {
     "name": "stdout",
     "output_type": "stream",
     "text": [
      "         id  user_id session_date  mb_used  month  redondeo_gb\n",
      "0   1000_13     1000   2018-12-29    89.86     12          0.0\n",
      "1  1000_204     1000   2018-12-31     0.00     12          0.0\n",
      "2  1000_379     1000   2018-12-28   660.40     12          1.0\n",
      "3  1000_413     1000   2018-12-26   270.99     12          0.0\n",
      "4  1000_442     1000   2018-12-27   880.22     12          1.0\n"
     ]
    }
   ],
   "source": [
    "data_internet['month']=data_internet['session_date'].dt.month\n",
    "data_internet['redondeo_gb']=(data_internet['mb_used'])/1024\n",
    "data_internet['redondeo_gb']=round(data_internet['redondeo_gb'])\n",
    "print(data_internet.head(5))"
   ]
  },
  {
   "cell_type": "markdown",
   "metadata": {},
   "source": [
    "Comentario: Teniendo en cuenta las politicas de facturacion, se hace la conversion de los consumos de los clientes de Megabyte a gigabyte y se procede al redondeo al numero superior parael cobro correcto"
   ]
  },
  {
   "cell_type": "markdown",
   "metadata": {
    "id": "3UA2cqIW0q1E"
   },
   "source": [
    "## Estudiar las condiciones de las tarifas"
   ]
  },
  {
   "cell_type": "markdown",
   "metadata": {
    "id": "T86Sqltq0q1F"
   },
   "source": [
    "[Es sumamente importante entender cómo funcionan las tarifas, cómo se les cobra a los usuarios en función de su plan de suscripción."
   ]
  },
  {
   "cell_type": "code",
   "execution_count": null,
   "metadata": {
    "id": "i409op8p0q1F"
   },
   "outputs": [
    {
     "name": "stdout",
     "output_type": "stream",
     "text": [
      "   messages_included  mb_per_month_included  minutes_included  \\\n",
      "0                 50                  15360               500   \n",
      "1               1000                  30720              3000   \n",
      "\n",
      "   usd_monthly_pay  usd_per_gb  usd_per_message  usd_per_minute plan_name  \n",
      "0               20          10             0.03            0.03      surf  \n",
      "1               70           7             0.01            0.01  ultimate  \n"
     ]
    }
   ],
   "source": [
    "print(data_plans.sample(2))"
   ]
  },
  {
   "cell_type": "markdown",
   "metadata": {
    "id": "hMR1tP5d0q1F"
   },
   "source": [
    "## Agregar datos por usuario\n",
    "\n",
    "Ahora que los datos están limpios, "
   ]
  },
  {
   "cell_type": "code",
   "execution_count": null,
   "metadata": {
    "id": "A332cedB0q1G"
   },
   "outputs": [
    {
     "name": "stdout",
     "output_type": "stream",
     "text": [
      "user_id  month\n",
      "1000     12       16\n",
      "1001     8        27\n",
      "         9        49\n",
      "         10       65\n",
      "         11       64\n",
      "Name: call_date, dtype: int64\n"
     ]
    }
   ],
   "source": [
    "cant_calls=data_calls.groupby(['user_id','month'])['call_date'].count()\n",
    "print(cant_calls.head(5))"
   ]
  },
  {
   "cell_type": "code",
   "execution_count": null,
   "metadata": {
    "id": "aw2cmuql0q1G"
   },
   "outputs": [
    {
     "name": "stdout",
     "output_type": "stream",
     "text": [
      "user_id  month\n",
      "1000     12        124\n",
      "1001     8         182\n",
      "         9         315\n",
      "         10        393\n",
      "         11        426\n",
      "         12        412\n",
      "1002     10         59\n",
      "         11        386\n",
      "         12        384\n",
      "1003     12       1104\n",
      "Name: duration_redondeada, dtype: int64\n"
     ]
    }
   ],
   "source": [
    "minute_calls=data_calls.groupby(['user_id','month'])['duration_redondeada'].sum()\n",
    "print(minute_calls.head(10))\n"
   ]
  },
  {
   "cell_type": "code",
   "execution_count": null,
   "metadata": {
    "id": "CcQvNHn60q1G"
   },
   "outputs": [
    {
     "name": "stdout",
     "output_type": "stream",
     "text": [
      "user_id  month\n",
      "1000     12       11\n",
      "1001     8        30\n",
      "         9        44\n",
      "         10       53\n",
      "         11       36\n",
      "Name: message_date, dtype: int64\n"
     ]
    }
   ],
   "source": [
    "messages_month=data_messages.groupby(['user_id','month'])['message_date'].count()\n",
    "print(messages_month.head(5))\n",
    "\n"
   ]
  },
  {
   "cell_type": "code",
   "execution_count": null,
   "metadata": {
    "id": "H1AqN2eG0q1H"
   },
   "outputs": [
    {
     "name": "stdout",
     "output_type": "stream",
     "text": [
      "user_id  month\n",
      "1000     12       1901.47\n",
      "1001     8        6919.15\n",
      "Name: mb_used, dtype: float64\n"
     ]
    }
   ],
   "source": [
    "volume_internet=data_internet.groupby(['user_id','month'])['mb_used'].sum()\n",
    "print(volume_internet.head(2))\n"
   ]
  },
  {
   "cell_type": "code",
   "execution_count": null,
   "metadata": {
    "id": "FW99ykyf0q1H"
   },
   "outputs": [
    {
     "name": "stdout",
     "output_type": "stream",
     "text": [
      "   user_id  month  calls  minutes  messages  internet\n",
      "0     1000     12   16.0    124.0      11.0   1901.47\n",
      "1     1001      8   27.0    182.0      30.0   6919.15\n",
      "2     1001      9   49.0    315.0      44.0  13314.82\n",
      "3     1001     10   65.0    393.0      53.0  22330.49\n",
      "4     1001     11   64.0    426.0      36.0  18504.30\n"
     ]
    }
   ],
   "source": [
    "data_calls_union=pd.merge(cant_calls,minute_calls,on=(['user_id','month']),how='outer')\n",
    "data_messages_union=pd.merge(data_calls_union,messages_month,on=(['user_id','month']),how='outer')\n",
    "data_fusion=pd.merge(data_messages_union,volume_internet,on=(['user_id','month']),how='outer')\n",
    "data_fusion=data_fusion.reset_index()\n",
    "data_fusion.columns=['user_id','month','calls','minutes','messages','internet']\n",
    "\n",
    "print(data_fusion.head())\n",
    "\n"
   ]
  },
  {
   "cell_type": "code",
   "execution_count": null,
   "metadata": {
    "id": "0dNOXHag0q1H"
   },
   "outputs": [
    {
     "name": "stdout",
     "output_type": "stream",
     "text": [
      "   user_id  month  calls  minutes  messages  internet      plan\n",
      "0     1000   12.0   16.0    124.0      11.0   1901.47  ultimate\n",
      "1     1001    8.0   27.0    182.0      30.0   6919.15      surf\n",
      "2     1001    9.0   49.0    315.0      44.0  13314.82      surf\n",
      "3     1001   10.0   65.0    393.0      53.0  22330.49      surf\n",
      "4     1001   11.0   64.0    426.0      36.0  18504.30      surf\n"
     ]
    }
   ],
   "source": [
    "users_tarif=data_users.groupby(['user_id','plan'])['plan'].sum()\n",
    "data_combination=data_fusion.merge(users_tarif,\n",
    "                                   on='user_id',how='outer'\n",
    "                                  )\n",
    "print(data_combination.head(5))\n"
   ]
  },
  {
   "cell_type": "code",
   "execution_count": null,
   "metadata": {
    "id": "5FGCf_c60q1I"
   },
   "outputs": [
    {
     "name": "stdout",
     "output_type": "stream",
     "text": [
      "    user_id  month      plan  usd_monthly_pay  total_extra  total_income\n",
      "0      1000   12.0  ultimate               70         0.00         70.00\n",
      "1      1001    8.0      surf               20         0.00         20.00\n",
      "2      1001    9.0      surf               20         0.00         20.00\n",
      "3      1001   10.0      surf               20        70.09         90.09\n",
      "4      1001   11.0      surf               20        30.00         50.00\n",
      "5      1001   12.0      surf               20        40.00         60.00\n",
      "6      1002   10.0      surf               20         0.00         20.00\n",
      "7      1002   11.0      surf               20        40.00         60.00\n",
      "8      1002   12.0      surf               20         0.00         20.00\n",
      "9      1003   12.0      surf               20       128.12        148.12\n",
      "10     1004    5.0      surf               20         0.00         20.00\n",
      "11     1004    6.0      surf               20        50.00         70.00\n",
      "12     1004    7.0      surf               20        90.00        110.00\n",
      "13     1004    8.0      surf               20       120.00        140.00\n",
      "14     1004    9.0      surf               20        30.00         50.00\n"
     ]
    }
   ],
   "source": [
    "calculate_combination=data_combination.merge(data_plans,\n",
    "                                   left_on='plan',right_on='plan_name'\n",
    "                                             )# Calcula el ingreso mensual para cada usuario\n",
    "calculate_combination['extra_minutes']=calculate_combination['minutes']-calculate_combination['minutes_included']\n",
    "calculate_combination['extra_mesagges']=calculate_combination['messages']-calculate_combination['messages_included']\n",
    "calculate_combination['extra_intenet']=(calculate_combination['internet']-calculate_combination['mb_per_month_included'])/1024\n",
    "calculate_combination['extra_intenet']=round(calculate_combination['extra_intenet'],0)\n",
    "calculate_combination.loc[calculate_combination['extra_minutes']<1,'extra_minutes']=0\n",
    "calculate_combination.loc[calculate_combination['extra_mesagges']<1,'extra_mesagges']=0\n",
    "calculate_combination.loc[calculate_combination['extra_intenet']<1,'extra_intenet']=0\n",
    "calculate_combination['value_extra_minutes']=calculate_combination['extra_minutes']* calculate_combination['usd_per_minute']\n",
    "calculate_combination['value_extra_mesagges']=calculate_combination['extra_mesagges']* calculate_combination['usd_per_message']\n",
    "calculate_combination['value_extra_intenet']=calculate_combination['extra_intenet']* calculate_combination['usd_per_gb']\n",
    "calculate_combination['total_extra']=calculate_combination[['value_extra_minutes','value_extra_mesagges','value_extra_intenet']].sum(axis=1)\n",
    "calculate_combination['total_income']=calculate_combination['usd_monthly_pay']+calculate_combination['total_extra']\n",
    "tariff_new_plan=calculate_combination.groupby(['user_id','month','plan','usd_monthly_pay','total_extra'])['total_income'].sum()\n",
    "tariff_new_plan=tariff_new_plan.reset_index()\n",
    "\n",
    "print(tariff_new_plan.head(15))\n"
   ]
  },
  {
   "cell_type": "markdown",
   "metadata": {
    "id": "-jtyHzJb0q1I"
   },
   "source": [
    "## Estudiar el comportamiento de usuario"
   ]
  },
  {
   "cell_type": "markdown",
   "metadata": {
    "id": "AxU3Y0N70q1J"
   },
   "source": [
    "[Calcular algunas estadísticas descriptivas para los datos agregados y fusionados que nos sean útiles y que muestren un panorama general captado por los datos. Dado que la tarea principal es comparar las tarifas y decidir cuál es más rentable, las estadísticas y gráficas deben calcularse por tarifa.]\n",
    "\n"
   ]
  },
  {
   "cell_type": "markdown",
   "metadata": {
    "id": "vtW4CJEe0q1J"
   },
   "source": [
    "### Llamadas"
   ]
  },
  {
   "cell_type": "code",
   "execution_count": null,
   "metadata": {
    "id": "Jf5v5--k0q1J"
   },
   "outputs": [
    {
     "data": {
      "image/png": "[encoded data removed]",
      "text/plain": [
       "<Figure size 1000x800 with 1 Axes>"
      ]
     },
     "metadata": {},
     "output_type": "display_data"
    }
   ],
   "source": [
    "mean_minutes=data_combination.groupby(['month','plan'])['minutes'].mean()\n",
    "mean_minutes.plot(kind='bar',figsize=[10,8],xlabel=['surf,ultimate'],title='Plan Calls',color=['blue','gray'],ylabel=\"minutes\")\n",
    "plt.show()\n",
    "\n"
   ]
  },
  {
   "cell_type": "code",
   "execution_count": null,
   "metadata": {
    "id": "QoLqW1S_0q1J"
   },
   "outputs": [
    {
     "data": {
      "image/png": "[encoded data removed]",
      "text/plain": [
       "<Figure size 640x480 with 1 Axes>"
      ]
     },
     "metadata": {},
     "output_type": "display_data"
    }
   ],
   "source": [
    "plan_surf_mean=data_combination.query(\"plan=='surf'\")\n",
    "plan_surf_minutes=plan_surf_mean.groupby(['month'])['minutes'].mean()\n",
    "plan_ultimate_mean=data_combination.query(\"plan=='ultimate'\")\n",
    "plan_ultimate_minutes=plan_ultimate_mean.groupby(['month'])['minutes'].mean()\n",
    "plan_surf_minutes.hist(bins=5,alpha=0.5)\n",
    "plan_ultimate_minutes.hist(bins=5,alpha=0.7)\n",
    "\n",
    "plt.show()\n",
    "\n",
    "\n",
    "\n"
   ]
  },
  {
   "cell_type": "code",
   "execution_count": null,
   "metadata": {
    "id": "oSndbAnt0q1K"
   },
   "outputs": [
    {
     "name": "stdout",
     "output_type": "stream",
     "text": [
      "La media del plan surf es:389\n",
      "La Varianza del plan surf es:5843\n",
      "La media del plan ultimate es:396\n",
      "La Varianza del plan ultimate es :6085\n"
     ]
    }
   ],
   "source": [
    "mean_plan_surf_minutes=data_combination.query(\"plan=='surf'\")\n",
    "mean_calls_plan_surf=mean_plan_surf_minutes.groupby(['month'])['minutes'].mean()\n",
    "new_mean_calls_surf=mean_calls_plan_surf.mean()\n",
    "varianza_calls_surf=np.var(mean_calls_plan_surf)\n",
    "print(f\"La media del plan surf es:{int(new_mean_calls_surf.mean())}\")\n",
    "print(f\"La Varianza del plan surf es:{int(varianza_calls_surf)}\")\n",
    "\n",
    "mean_plan_ultimate_minutes=data_combination.query(\"plan=='ultimate'\")\n",
    "mean_calls_plan_ultimate=mean_plan_ultimate_minutes.groupby(['month'])['minutes'].mean()\n",
    "new_mean_calls_ultimate=mean_calls_plan_ultimate.mean()\n",
    "varianza_calls_ultimate=np.var(mean_calls_plan_ultimate)\n",
    "print(f\"La media del plan ultimate es:{int(new_mean_calls_ultimate.mean())}\")\n",
    "print((f\"La Varianza del plan ultimate es :{int(varianza_calls_ultimate)}\"))\n",
    "\n"
   ]
  },
  {
   "cell_type": "code",
   "execution_count": null,
   "metadata": {
    "id": "nZzoRUKc0q1K"
   },
   "outputs": [
    {
     "data": {
      "text/plain": [
       "<AxesSubplot:xlabel='minutes'>"
      ]
     },
     "execution_count": 33,
     "metadata": {},
     "output_type": "execute_result"
    },
    {
     "data": {
      "image/png": "[encoded data removed]",
      "text/plain": [
       "<Figure size 640x480 with 1 Axes>"
      ]
     },
     "metadata": {},
     "output_type": "display_data"
    }
   ],
   "source": [
    "box_calls_plan=data_combination.groupby(['month'])['minutes'].mean()\n",
    "sns.boxplot(x=box_calls_plan)\n"
   ]
  },
  {
   "cell_type": "markdown",
   "metadata": {},
   "source": [
    "Comentario: Los usuarios van a requerir planes de minimo 320, segun el comportamiento observado, tienen una mediana de 420 y un valor maximo de 500 minutos."
   ]
  },
  {
   "cell_type": "markdown",
   "metadata": {
    "id": "8idKy8Wh0q1L"
   },
   "source": [
    "### Mensajes"
   ]
  },
  {
   "cell_type": "code",
   "execution_count": null,
   "metadata": {
    "id": "NXLxiTit0q1L"
   },
   "outputs": [
    {
     "data": {
      "image/png": "[encoded data removed]",
      "text/plain": [
       "<Figure size 1000x800 with 1 Axes>"
      ]
     },
     "metadata": {},
     "output_type": "display_data"
    }
   ],
   "source": [
    "comparative_data_messagges=data_combination.groupby(['month','plan'])['messages'].sum()\n",
    "comparative_data_messagges.plot(kind='bar',figsize=[10,8],xlabel=['surf,ultimate'],title='Plan Messages',color=['green','gray'],ylabel=\"messages\")\n",
    "plt.show()\n"
   ]
  },
  {
   "cell_type": "code",
   "execution_count": null,
   "metadata": {
    "id": "GRI_R7xF0q1L"
   },
   "outputs": [
    {
     "data": {
      "image/png": "[encoded data removed]",
      "text/plain": [
       "<Figure size 640x480 with 1 Axes>"
      ]
     },
     "metadata": {},
     "output_type": "display_data"
    }
   ],
   "source": [
    "messages_surf_mean=data_combination.query(\"plan=='surf'\")\n",
    "plan_surf_messages=messages_surf_mean.groupby(['month'])['messages'].mean()\n",
    "messages_ultimate_mean=data_combination.query(\"plan=='ultimate'\")\n",
    "plan_ultimate_messages=messages_ultimate_mean.groupby(['month'])['messages'].mean()\n",
    "plan_surf_messages.hist(bins=5,alpha=0.5)\n",
    "plan_ultimate_messages.hist(bins=5,alpha=0.7)\n",
    "\n",
    "plt.show()"
   ]
  },
  {
   "cell_type": "code",
   "execution_count": null,
   "metadata": {},
   "outputs": [
    {
     "name": "stdout",
     "output_type": "stream",
     "text": [
      "La media del plan surf es:33\n",
      "La Varianza del plan surf es:77\n",
      "La media del plan ultimate es:39\n",
      "La Varianza del plan ultimate es:97\n"
     ]
    }
   ],
   "source": [
    "messages_surf_mean=data_combination.query(\"plan=='surf'\")\n",
    "plan_surf_messages=messages_surf_mean.groupby(['month'])['messages'].mean()\n",
    "new_mean_messages_surf=plan_surf_messages.mean()\n",
    "varianza_messages_surf=np.var(plan_surf_messages)\n",
    "print(f\"La media del plan surf es:{int(new_mean_messages_surf.mean())}\")\n",
    "print(f\"La Varianza del plan surf es:{int(varianza_messages_surf)}\")\n",
    "\n",
    "messages_ultimate_mean=data_combination.query(\"plan=='ultimate'\")\n",
    "plan_ultimate_messages=messages_ultimate_mean.groupby(['month'])['messages'].mean()\n",
    "new_mean_messages_ultimate=plan_ultimate_messages.mean()\n",
    "varianza_messages_ultimate=np.var(plan_ultimate_messages)\n",
    "print(f\"La media del plan ultimate es:{int(new_mean_messages_ultimate.mean())}\")\n",
    "print(f\"La Varianza del plan ultimate es:{int(varianza_messages_ultimate)}\")"
   ]
  },
  {
   "cell_type": "code",
   "execution_count": null,
   "metadata": {},
   "outputs": [
    {
     "data": {
      "text/plain": [
       "<AxesSubplot:xlabel='messages'>"
      ]
     },
     "execution_count": 37,
     "metadata": {},
     "output_type": "execute_result"
    },
    {
     "data": {
      "image/png": "[encoded data removed]",
      "text/plain": [
       "<Figure size 640x480 with 1 Axes>"
      ]
     },
     "metadata": {},
     "output_type": "display_data"
    }
   ],
   "source": [
    "box_messages_plan=data_combination.groupby(['month'])['messages'].mean()\n",
    "sns.boxplot(x=box_messages_plan)"
   ]
  },
  {
   "cell_type": "markdown",
   "metadata": {},
   "source": [
    "Comentario: Los usuarios envian como minimo 21 mensajes, su comportamiento tiene una mediana de 37 y un valor macimo de 50 mensajes."
   ]
  },
  {
   "cell_type": "markdown",
   "metadata": {
    "id": "42YSypXz0q1M"
   },
   "source": [
    "### Internet"
   ]
  },
  {
   "cell_type": "code",
   "execution_count": null,
   "metadata": {
    "id": "wnh8jYXi0q1N"
   },
   "outputs": [
    {
     "data": {
      "image/png": "[encoded data removed]",
      "text/plain": [
       "<Figure size 1000x800 with 1 Axes>"
      ]
     },
     "metadata": {},
     "output_type": "display_data"
    }
   ],
   "source": [
    "mean_internet=(data_combination.groupby(['month','plan'])['internet'].mean())/1024\n",
    "mean_internet.plot(kind='bar',figsize=[10,8],xlabel=['surf,ultimate'],title='Plan Internet',color=['red','blue'],ylabel=\"internet\")\n",
    "plt.show()\n"
   ]
  },
  {
   "cell_type": "code",
   "execution_count": null,
   "metadata": {
    "id": "5VlyJ9ry0q1N"
   },
   "outputs": [
    {
     "data": {
      "image/png": "[encoded data removed]",
      "text/plain": [
       "<Figure size 640x480 with 1 Axes>"
      ]
     },
     "metadata": {},
     "output_type": "display_data"
    }
   ],
   "source": [
    "internet_surf_mean=data_combination.query(\"plan=='surf'\")\n",
    "plan_surf_internet=(internet_surf_mean.groupby(['month'])['internet'].mean())/1024\n",
    "internet_ultimate_mean=data_combination.query(\"plan=='ultimate'\")\n",
    "plan_ultimate_internet=(internet_ultimate_mean.groupby(['month'])['internet'].mean())/1024\n",
    "plan_surf_internet.hist(bins=5,alpha=0.5)\n",
    "plan_ultimate_internet.hist(bins=5,alpha=0.7)\n",
    "\n",
    "plt.show()"
   ]
  },
  {
   "cell_type": "code",
   "execution_count": null,
   "metadata": {},
   "outputs": [
    {
     "name": "stdout",
     "output_type": "stream",
     "text": [
      "La media del plan surf es:14\n",
      "La varianza del plan surf es:11\n",
      "La media del plan ultimate es:15\n",
      "La varianza del plan ultimate es:8\n"
     ]
    }
   ],
   "source": [
    "internet_surf_mean=data_combination.query(\"plan=='surf'\")\n",
    "plan_surf_internet=(internet_surf_mean.groupby(['month'])['internet'].mean())/1024\n",
    "new_mean_internet_surf=plan_surf_internet.mean()\n",
    "varianza_internet_surf=np.var(plan_surf_internet)\n",
    "print(f\"La media del plan surf es:{int(new_mean_internet_surf.mean())}\")\n",
    "print (f\"La varianza del plan surf es:{int(varianza_internet_surf)}\")\n",
    "\n",
    "internet_ultimate_mean=data_combination.query(\"plan=='ultimate'\")\n",
    "plan_ultimate_internet=(internet_ultimate_mean.groupby(['month'])['internet'].mean())/1024\n",
    "new_mean_internet_ultimate=plan_ultimate_internet.mean()\n",
    "varianza_internet_ultimate=np.var(plan_ultimate_internet)\n",
    "print(f\"La media del plan ultimate es:{int(new_mean_internet_ultimate.mean())}\")\n",
    "print (f\"La varianza del plan ultimate es:{int(varianza_internet_ultimate)}\")"
   ]
  },
  {
   "cell_type": "code",
   "execution_count": null,
   "metadata": {},
   "outputs": [
    {
     "data": {
      "text/plain": [
       "<AxesSubplot:xlabel='internet'>"
      ]
     },
     "execution_count": 41,
     "metadata": {},
     "output_type": "execute_result"
    },
    {
     "data": {
      "image/png": "[encoded data removed]",
      "text/plain": [
       "<Figure size 640x480 with 1 Axes>"
      ]
     },
     "metadata": {},
     "output_type": "display_data"
    }
   ],
   "source": [
    "box_internet_plan=(data_combination.groupby(['month'])['internet'].mean())/1024\n",
    "sns.boxplot(x=box_internet_plan)"
   ]
  },
  {
   "cell_type": "markdown",
   "metadata": {},
   "source": [
    "Comentario: Como valor minimo se tienen 13 gigabytes, una mediana de 16 y un valor maximo de 18."
   ]
  },
  {
   "cell_type": "markdown",
   "metadata": {
    "id": "tCijq3260q1N"
   },
   "source": [
    "## Ingreso"
   ]
  },
  {
   "cell_type": "code",
   "execution_count": null,
   "metadata": {
    "id": "tz-dq_V00q1O"
   },
   "outputs": [
    {
     "data": {
      "image/png": "[encoded data removed]",
      "text/plain": [
       "<Figure size 1000x800 with 1 Axes>"
      ]
     },
     "metadata": {},
     "output_type": "display_data"
    }
   ],
   "source": [
    "income_plan_month=calculate_combination.groupby(['month','plan'])['total_income'].mean()\n",
    "income_plan_month.plot(kind='bar',figsize=[10,8],xlabel=['surf,ultimate'],title='Spend Plan',color=['blue','red'],ylabel=\"value plan\")\n",
    "plt.show()\n",
    "\n"
   ]
  },
  {
   "cell_type": "code",
   "execution_count": null,
   "metadata": {
    "id": "bYmwxyVh0q1P"
   },
   "outputs": [
    {
     "data": {
      "image/png": "[encoded data removed]",
      "text/plain": [
       "<Figure size 640x480 with 1 Axes>"
      ]
     },
     "metadata": {},
     "output_type": "display_data"
    }
   ],
   "source": [
    "plan_surf_income=calculate_combination.query(\"plan=='surf'\")\n",
    "plan_surf_income=plan_surf_income.groupby(['month'])['total_income'].mean()\n",
    "plan_ultimate_income=calculate_combination.query(\"plan=='ultimate'\")\n",
    "plan_ultimate_income=plan_ultimate_income.groupby(['month'])['total_income'].mean()\n",
    "plan_surf_income.hist(bins=5,alpha=0.5)\n",
    "plan_ultimate_income.hist(bins=5,alpha=0.7)\n",
    "\n",
    "plt.show()\n"
   ]
  },
  {
   "cell_type": "code",
   "execution_count": null,
   "metadata": {},
   "outputs": [
    {
     "name": "stdout",
     "output_type": "stream",
     "text": [
      "La media de los ingresos plan surf es:48\n",
      "La varianza de los ingresos plan surf es:169\n",
      "La media de los ingresos plan ultimate es:71\n",
      "La varianza de los ingresos plan ultimate es:1\n"
     ]
    }
   ],
   "source": [
    "income_plan_surf_mean=calculate_combination.query(\"plan=='surf'\")\n",
    "income_plan_surf_month=(income_plan_surf_mean.groupby(['month'])['total_income'].mean())\n",
    "new_income_mean_plan_surf=income_plan_surf_month.mean()\n",
    "varianza_income_plan_surf=np.var(income_plan_surf_month)\n",
    "print(f\"La media de los ingresos plan surf es:{int(new_income_mean_plan_surf.mean())}\")\n",
    "print(f\"La varianza de los ingresos plan surf es:{int(varianza_income_plan_surf)}\")\n",
    "\n",
    "\n",
    "income_plan_ultimate_mean=calculate_combination.query(\"plan=='ultimate'\")\n",
    "income_plan_ultimate_month=(income_plan_ultimate_mean.groupby(['month'])['total_income'].mean())\n",
    "new_income_mean_plan_ultimate=income_plan_ultimate_month.mean()\n",
    "varianza_income_plan_ultimate=np.var(income_plan_ultimate_month)\n",
    "print(f\"La media de los ingresos plan ultimate es:{int(new_income_mean_plan_ultimate.mean())}\")\n",
    "print(f\"La varianza de los ingresos plan ultimate es:{int(varianza_income_plan_ultimate)}\")\n",
    "\n",
    "   "
   ]
  },
  {
   "cell_type": "code",
   "execution_count": null,
   "metadata": {},
   "outputs": [
    {
     "data": {
      "text/plain": [
       "<AxesSubplot:xlabel='total_income'>"
      ]
     },
     "execution_count": 45,
     "metadata": {},
     "output_type": "execute_result"
    },
    {
     "data": {
      "image/png": "[encoded data removed]",
      "text/plain": [
       "<Figure size 640x480 with 1 Axes>"
      ]
     },
     "metadata": {},
     "output_type": "display_data"
    }
   ],
   "source": [
    "box_income_plan=(calculate_combination.groupby(['month'])['total_income'].mean())\n",
    "sns.boxplot(x=box_income_plan)"
   ]
  },
  {
   "cell_type": "markdown",
   "metadata": {},
   "source": [
    "Comentario: Elingreso para el plan Ultimate es el valor pagado en el plan 70 dolares mientras que para surf si varia entre 48 y 70 dolares"
   ]
  },
  {
   "cell_type": "markdown",
   "metadata": {
    "id": "ajJ7VKeI0q1Q"
   },
   "source": [
    "## Prueba las hipótesis estadísticas"
   ]
  },
  {
   "cell_type": "markdown",
   "metadata": {
    "id": "AdXAZ-yL0q1Q"
   },
   "source": [
    "[Prueba la hipótesis de que son diferentes los ingresos promedio procedentes de los usuarios de los planes de llamada Ultimate y Surf.]"
   ]
  },
  {
   "cell_type": "code",
   "execution_count": null,
   "metadata": {},
   "outputs": [
    {
     "name": "stdout",
     "output_type": "stream",
     "text": [
      "valor p: 2.890915781226585e-43\n",
      "Rechazamos la hipótesis nula\n"
     ]
    }
   ],
   "source": [
    "users_ingreso_mean=calculate_combination.merge(data_users,on='user_id')\n",
    "users_ingreso_surf=users_ingreso_mean.query(\"plan_x=='surf'\")\n",
    "Q1_surf=users_ingreso_surf['total_income'].quantile(0.25)\n",
    "Q3_surf=users_ingreso_surf['total_income'].quantile(0.75)\n",
    "IQR_surf=Q3_surf-Q1_surf\n",
    "limite_inferior_surf=Q1_surf-1.5*IQR_surf\n",
    "limite_superior_surf=Q3_surf+1.5*IQR_surf\n",
    "users_ingreso_surf=users_ingreso_surf[(users_ingreso_surf['total_income']>=limite_inferior_surf)&(users_ingreso_surf['total_income']<=limite_superior_surf)]\n",
    "hipotesis_surf=users_ingreso_surf.groupby(['user_id'])['total_income'].mean()\n",
    "\n",
    "\n",
    "users_ingreso_ultimate=users_ingreso_mean.query(\"plan_x=='ultimate'\")\n",
    "Q1_ultimate=users_ingreso_ultimate['total_income'].quantile(0.25)\n",
    "Q3_ultimate=users_ingreso_ultimate['total_income'].quantile(0.75)\n",
    "IQR_ultimate=Q3_ultimate-Q1_ultimate\n",
    "limite_inferior_ultimate=Q1_ultimate-1.5*IQR_ultimate\n",
    "limite_superior_ultimate=Q3_ultimate+1.5*IQR_ultimate\n",
    "hipotesis_ultimate=users_ingreso_ultimate.groupby(['user_id'])['total_income'].mean()\n",
    "\n",
    "alpha=0.05\n",
    "\n",
    "\n",
    "result=st.ttest_ind(hipotesis_surf,hipotesis_ultimate,equal_var=False)\n",
    "print('valor p:',result.pvalue)\n",
    "\n",
    "if (result.pvalue<alpha):\n",
    "    print('Rechazamos la hipótesis nula')\n",
    "else:\n",
    "    print('No podemos rechazar la hipótesis nula')"
   ]
  },
  {
   "cell_type": "markdown",
   "metadata": {
    "id": "tCcAruM60q1R"
   },
   "source": [
    "[Probar la hipótesis de que el ingreso promedio de los usuarios del área NY-NJ es diferente al de los usuarios de otras regiones.]"
   ]
  },
  {
   "cell_type": "code",
   "execution_count": null,
   "metadata": {
    "id": "Cqcj7wrZ0q1S"
   },
   "outputs": [
    {
     "name": "stdout",
     "output_type": "stream",
     "text": [
      "valor p: 0.003847234247984977\n",
      "Rechazamos la hipótesis nula\n"
     ]
    }
   ],
   "source": [
    "users_ingreso_mean=calculate_combination.merge(data_users,on='user_id')\n",
    "users_ingreso_ny=users_ingreso_mean.query(\"city=='New York-Newark-Jersey City, NY-NJ-PA MSA'\")\n",
    "Q1_ny=users_ingreso_ny['total_income'].quantile(0.25)\n",
    "Q3_ny=users_ingreso_ny['total_income'].quantile(0.75)\n",
    "IQR_ny=Q3_ny-Q1_ny\n",
    "limite_inferior_ny=Q1_ny-1.5*IQR_ny\n",
    "limite_superior_ny=Q3_ny+1.5*IQR_ny\n",
    "users_ingreso_ny=users_ingreso_ny[(users_ingreso_ny['total_income']>=limite_inferior_ny)&(users_ingreso_ny['total_income']<=limite_superior_ny)]\n",
    "hipotesis_ny=users_ingreso_ny.groupby(['user_id'])['total_income'].mean()\n",
    "users_ingreso_other=users_ingreso_mean.query(\"city!='New York-Newark-Jersey City, NY-NJ-PA MSA'\")\n",
    "Q1_other=users_ingreso_other['total_income'].quantile(0.25)\n",
    "Q3_other=users_ingreso_other['total_income'].quantile(0.75)\n",
    "IQR_other=Q3_other-Q1_other\n",
    "limite_inferior_other=Q1_other-1.5*IQR_other\n",
    "limite_superior_other=Q3_other+1.5*IQR_other\n",
    "hipotesis_other=users_ingreso_other.groupby(['user_id'])['total_income'].mean()\n",
    "\n",
    "alpha=0.05\n",
    "\n",
    "\n",
    "result_city=st.ttest_ind(hipotesis_ny,hipotesis_other,equal_var=False)\n",
    "print('valor p:',result_city.pvalue)\n",
    "\n",
    "if (result_city.pvalue<alpha):\n",
    "    print('Rechazamos la hipótesis nula')\n",
    "else:\n",
    "    print('No podemos rechazar la hipótesis nula')\n"
   ]
  },
  {
   "cell_type": "markdown",
   "metadata": {
    "id": "bbTR8UQO0q1T"
   },
   "source": [
    "## Conclusión general\n"
   ]
  },
  {
   "cell_type": "markdown",
   "metadata": {},
   "source": [
    "Conclusiones=\n",
    "*los ingresos promedio procedentes de los usuarios de los planes de llamada Ultimate y Surf son muy similares motivo por lo cual se rechaza la hipotesis en nuestro analisis.\n",
    "*El ingreso promedio de los usuarios del área NY-NJ es similar al de los usuarios de otras regiones, debido a que en el analisis de hipotesis como resultado se obtiene que se debe rechazar la hipotesis nula\n",
    "*Definitivamente este tipo de analisis permite que las empresas toemn decisiones importantes que pueden incrementar sus ingresos ofreciendo los planes que los clientes necesitan."
   ]
  }
 ],
 "metadata": {
  "ExecuteTimeLog": [
   {
    "duration": 828,
    "start_time": "2021-11-16T09:21:11.304Z"
   },
   {
    "duration": 893,
    "start_time": "2021-11-16T09:21:17.728Z"
   },
   {
    "duration": 1150,
    "start_time": "2021-11-16T09:21:29.568Z"
   },
   {
    "duration": 3,
    "start_time": "2021-11-16T09:24:14.495Z"
   },
   {
    "duration": 120,
    "start_time": "2021-11-16T09:24:46.630Z"
   },
   {
    "duration": 3,
    "start_time": "2021-11-16T09:28:27.882Z"
   },
   {
    "duration": 4,
    "start_time": "2021-11-16T09:29:54.281Z"
   },
   {
    "duration": 3,
    "start_time": "2021-11-16T09:30:45.936Z"
   },
   {
    "duration": 4,
    "start_time": "2021-11-16T09:31:06.300Z"
   },
   {
    "duration": 113,
    "start_time": "2021-11-16T09:31:37.208Z"
   },
   {
    "duration": 143,
    "start_time": "2021-11-16T09:31:48.656Z"
   },
   {
    "duration": 98,
    "start_time": "2021-11-16T09:31:55.678Z"
   },
   {
    "duration": 3,
    "start_time": "2021-11-16T09:32:08.535Z"
   },
   {
    "duration": 111,
    "start_time": "2021-11-16T09:32:10.120Z"
   },
   {
    "duration": 3,
    "start_time": "2021-11-16T09:32:15.732Z"
   },
   {
    "duration": 4,
    "start_time": "2021-11-16T09:32:29.423Z"
   },
   {
    "duration": 3,
    "start_time": "2021-11-16T10:03:03.074Z"
   },
   {
    "duration": 3,
    "start_time": "2021-11-16T10:10:01.288Z"
   },
   {
    "duration": 3,
    "start_time": "2021-11-16T10:10:46.923Z"
   },
   {
    "duration": 121,
    "start_time": "2021-11-16T10:37:46.494Z"
   },
   {
    "duration": 125,
    "start_time": "2021-11-16T10:38:20.632Z"
   },
   {
    "duration": 112,
    "start_time": "2021-11-16T10:46:53.001Z"
   },
   {
    "duration": 110,
    "start_time": "2021-11-16T10:48:25.775Z"
   },
   {
    "duration": 3,
    "start_time": "2021-11-16T10:50:18.720Z"
   },
   {
    "duration": 4,
    "start_time": "2021-11-16T10:50:37.649Z"
   },
   {
    "duration": 2,
    "start_time": "2021-11-16T10:50:51.884Z"
   },
   {
    "duration": 3,
    "start_time": "2021-11-16T10:51:56.237Z"
   },
   {
    "duration": 101,
    "start_time": "2021-11-16T10:53:13.791Z"
   },
   {
    "duration": 3,
    "start_time": "2021-11-16T10:55:59.186Z"
   },
   {
    "duration": 3,
    "start_time": "2021-11-16T10:56:10.751Z"
   },
   {
    "duration": 3,
    "start_time": "2021-11-16T10:56:49.038Z"
   },
   {
    "duration": 3,
    "start_time": "2021-11-16T10:56:49.174Z"
   },
   {
    "duration": 4,
    "start_time": "2021-11-16T10:56:49.414Z"
   },
   {
    "duration": 3,
    "start_time": "2021-11-16T10:56:49.680Z"
   },
   {
    "duration": 3,
    "start_time": "2021-11-16T10:56:50.370Z"
   },
   {
    "duration": 114,
    "start_time": "2021-11-16T10:59:34.518Z"
   },
   {
    "duration": 3,
    "start_time": "2021-11-16T11:01:41.201Z"
   },
   {
    "duration": 116,
    "start_time": "2021-11-16T11:01:48.754Z"
   },
   {
    "duration": 3,
    "start_time": "2021-11-16T11:02:16.685Z"
   },
   {
    "duration": 3,
    "start_time": "2021-11-16T11:02:19.479Z"
   },
   {
    "duration": 3,
    "start_time": "2021-11-16T11:02:47.067Z"
   },
   {
    "duration": 3,
    "start_time": "2021-11-16T11:02:49.353Z"
   },
   {
    "duration": 3,
    "start_time": "2021-11-16T11:03:07.835Z"
   },
   {
    "duration": 3,
    "start_time": "2021-11-16T11:03:07.953Z"
   },
   {
    "duration": 112,
    "start_time": "2021-11-16T11:07:52.072Z"
   },
   {
    "duration": 187,
    "start_time": "2021-11-16T11:09:23.468Z"
   },
   {
    "duration": 4,
    "start_time": "2021-11-16T11:10:01.455Z"
   },
   {
    "duration": 3,
    "start_time": "2021-11-16T11:10:05.069Z"
   },
   {
    "duration": 4,
    "start_time": "2021-11-16T11:10:13.376Z"
   },
   {
    "duration": 3,
    "start_time": "2021-11-16T11:10:14.434Z"
   },
   {
    "duration": 3,
    "start_time": "2021-11-16T11:10:22.853Z"
   },
   {
    "duration": 4,
    "start_time": "2021-11-16T11:27:29.279Z"
   },
   {
    "duration": 4,
    "start_time": "2021-11-16T11:29:08.919Z"
   },
   {
    "duration": 118,
    "start_time": "2021-11-16T11:29:46.703Z"
   },
   {
    "duration": 437,
    "start_time": "2021-11-16T11:36:02.181Z"
   },
   {
    "duration": 157,
    "start_time": "2021-11-16T11:36:14.388Z"
   },
   {
    "duration": 207,
    "start_time": "2021-11-16T11:47:15.898Z"
   },
   {
    "duration": 3,
    "start_time": "2021-11-16T11:53:52.092Z"
   },
   {
    "duration": 3,
    "start_time": "2021-11-16T11:53:52.236Z"
   },
   {
    "duration": 3,
    "start_time": "2021-11-16T11:59:12.005Z"
   },
   {
    "duration": 112,
    "start_time": "2021-11-16T12:00:33.446Z"
   },
   {
    "duration": 3,
    "start_time": "2021-11-16T12:02:14.453Z"
   },
   {
    "duration": 3,
    "start_time": "2021-11-16T12:02:39.512Z"
   },
   {
    "duration": 106,
    "start_time": "2021-11-16T12:03:03.460Z"
   },
   {
    "duration": 3,
    "start_time": "2021-11-17T20:37:21.139Z"
   },
   {
    "duration": 3,
    "start_time": "2021-11-17T20:37:22.229Z"
   },
   {
    "duration": 3,
    "start_time": "2021-11-17T20:38:38.806Z"
   },
   {
    "duration": 3,
    "start_time": "2021-11-17T20:38:41.958Z"
   },
   {
    "duration": 3,
    "start_time": "2021-11-17T20:43:46.551Z"
   },
   {
    "duration": 4,
    "start_time": "2021-11-17T20:58:21.835Z"
   },
   {
    "duration": 3,
    "start_time": "2021-11-17T20:59:21.872Z"
   },
   {
    "duration": 4,
    "start_time": "2021-11-17T20:59:45.352Z"
   },
   {
    "duration": 4,
    "start_time": "2021-11-17T20:59:49.646Z"
   },
   {
    "duration": 159,
    "start_time": "2021-11-17T21:02:26.949Z"
   },
   {
    "duration": 3,
    "start_time": "2021-11-17T21:03:53.461Z"
   },
   {
    "duration": 3,
    "start_time": "2021-11-17T21:03:53.694Z"
   },
   {
    "duration": 3,
    "start_time": "2021-11-17T21:05:28.145Z"
   },
   {
    "duration": 116,
    "start_time": "2021-11-17T21:05:57.787Z"
   },
   {
    "duration": 3,
    "start_time": "2021-11-17T21:06:37.993Z"
   },
   {
    "duration": 3,
    "start_time": "2021-11-17T21:06:38.261Z"
   },
   {
    "duration": 3,
    "start_time": "2021-11-17T21:11:54.358Z"
   },
   {
    "duration": 3,
    "start_time": "2021-11-17T21:12:43.846Z"
   },
   {
    "duration": 4,
    "start_time": "2021-11-17T21:13:08.773Z"
   },
   {
    "duration": 3,
    "start_time": "2021-11-17T21:14:44.441Z"
   },
   {
    "duration": 3,
    "start_time": "2021-11-17T21:15:42.059Z"
   },
   {
    "duration": 4,
    "start_time": "2021-11-17T21:15:51.995Z"
   },
   {
    "duration": 3,
    "start_time": "2021-11-17T21:15:53.923Z"
   },
   {
    "duration": 3,
    "start_time": "2021-11-17T21:15:55.282Z"
   },
   {
    "duration": 3,
    "start_time": "2021-11-17T21:16:28.492Z"
   },
   {
    "duration": 3,
    "start_time": "2021-11-17T21:16:32.603Z"
   },
   {
    "duration": 3,
    "start_time": "2021-11-17T21:17:06.941Z"
   },
   {
    "duration": 98,
    "start_time": "2021-11-17T21:18:05.733Z"
   },
   {
    "duration": 4,
    "start_time": "2021-11-17T21:21:35.255Z"
   },
   {
    "duration": 3,
    "start_time": "2021-11-17T21:21:37.804Z"
   },
   {
    "duration": 4,
    "start_time": "2021-11-17T21:23:06.071Z"
   },
   {
    "duration": 3,
    "start_time": "2021-11-17T21:23:24.799Z"
   },
   {
    "duration": 3,
    "start_time": "2021-11-17T21:23:32.591Z"
   },
   {
    "duration": 98,
    "start_time": "2021-11-17T21:28:31.559Z"
   },
   {
    "duration": 3,
    "start_time": "2021-11-17T21:28:45.448Z"
   },
   {
    "duration": 3,
    "start_time": "2021-11-17T21:29:17.303Z"
   },
   {
    "duration": 3,
    "start_time": "2021-11-17T21:29:29.617Z"
   },
   {
    "duration": 3,
    "start_time": "2021-11-17T21:29:32.681Z"
   },
   {
    "duration": 3,
    "start_time": "2021-11-17T21:36:11.474Z"
   },
   {
    "duration": 3,
    "start_time": "2021-11-17T21:36:14.791Z"
   },
   {
    "duration": 3,
    "start_time": "2021-11-17T21:36:53.943Z"
   },
   {
    "duration": 3,
    "start_time": "2021-11-17T21:36:56.165Z"
   },
   {
    "duration": 4,
    "start_time": "2021-11-17T21:37:16.590Z"
   },
   {
    "duration": 3,
    "start_time": "2021-11-17T21:37:22.702Z"
   },
   {
    "duration": 4,
    "start_time": "2021-11-17T21:38:03.479Z"
   },
   {
    "duration": 3,
    "start_time": "2021-11-17T21:38:08.601Z"
   },
   {
    "duration": 3,
    "start_time": "2021-11-17T21:38:12.928Z"
   },
   {
    "duration": 3,
    "start_time": "2021-11-17T21:38:48.896Z"
   },
   {
    "duration": 2,
    "start_time": "2021-11-17T21:38:49.171Z"
   },
   {
    "duration": 4,
    "start_time": "2021-11-17T21:39:57.889Z"
   },
   {
    "duration": 3,
    "start_time": "2021-11-17T21:39:58.057Z"
   },
   {
    "duration": 3,
    "start_time": "2021-11-17T21:41:20.108Z"
   },
   {
    "duration": 3,
    "start_time": "2021-11-17T21:41:20.629Z"
   },
   {
    "duration": 3,
    "start_time": "2021-11-17T21:42:49.136Z"
   },
   {
    "duration": 3,
    "start_time": "2021-11-17T21:43:15.137Z"
   },
   {
    "duration": 4,
    "start_time": "2021-11-17T21:43:16.766Z"
   },
   {
    "duration": 4,
    "start_time": "2021-11-17T21:43:31.711Z"
   },
   {
    "duration": 3,
    "start_time": "2021-11-17T21:43:36.312Z"
   },
   {
    "duration": 4,
    "start_time": "2021-11-17T21:45:08.825Z"
   },
   {
    "duration": 4,
    "start_time": "2021-11-17T21:45:10.119Z"
   },
   {
    "duration": 4,
    "start_time": "2021-11-17T21:45:13.748Z"
   },
   {
    "duration": 3,
    "start_time": "2021-11-17T21:45:22.219Z"
   },
   {
    "duration": 3,
    "start_time": "2021-11-17T21:45:33.412Z"
   },
   {
    "duration": 2,
    "start_time": "2021-11-17T21:46:01.885Z"
   },
   {
    "duration": 3,
    "start_time": "2021-11-17T21:46:03.628Z"
   },
   {
    "duration": 107,
    "start_time": "2021-11-17T21:47:32.512Z"
   },
   {
    "duration": 103,
    "start_time": "2021-11-17T21:50:36.243Z"
   },
   {
    "duration": 3,
    "start_time": "2021-11-18T06:28:31.440Z"
   },
   {
    "duration": 3,
    "start_time": "2021-11-18T06:29:00.168Z"
   },
   {
    "duration": 3,
    "start_time": "2021-11-18T06:31:27.008Z"
   },
   {
    "duration": 2,
    "start_time": "2021-11-18T06:35:34.288Z"
   },
   {
    "duration": 2,
    "start_time": "2021-11-18T06:38:04.527Z"
   },
   {
    "duration": 324,
    "start_time": "2024-06-25T16:11:39.679Z"
   },
   {
    "duration": 4986,
    "start_time": "2024-06-25T16:11:54.438Z"
   },
   {
    "duration": 359,
    "start_time": "2024-06-25T16:11:59.428Z"
   },
   {
    "duration": 17,
    "start_time": "2024-06-25T16:12:00.078Z"
   },
   {
    "duration": 13,
    "start_time": "2024-06-25T16:12:00.251Z"
   },
   {
    "duration": 14,
    "start_time": "2024-06-25T16:12:01.897Z"
   },
   {
    "duration": 10,
    "start_time": "2024-06-25T16:12:02.072Z"
   },
   {
    "duration": 6,
    "start_time": "2024-06-25T16:12:02.815Z"
   },
   {
    "duration": 10,
    "start_time": "2024-06-25T16:12:03.381Z"
   },
   {
    "duration": 25,
    "start_time": "2024-06-25T16:12:04.148Z"
   },
   {
    "duration": 8,
    "start_time": "2024-06-25T16:12:04.332Z"
   },
   {
    "duration": 106,
    "start_time": "2024-06-25T16:12:05.275Z"
   },
   {
    "duration": 665,
    "start_time": "2024-06-25T16:12:06.071Z"
   },
   {
    "duration": 18,
    "start_time": "2024-06-25T16:12:06.816Z"
   },
   {
    "duration": 10,
    "start_time": "2024-06-25T16:12:07.000Z"
   },
   {
    "duration": 18,
    "start_time": "2024-06-25T16:12:07.965Z"
   },
   {
    "duration": 13,
    "start_time": "2024-06-25T16:12:08.554Z"
   },
   {
    "duration": 22,
    "start_time": "2024-06-25T16:12:08.936Z"
   },
   {
    "duration": 7,
    "start_time": "2024-06-25T16:12:09.117Z"
   },
   {
    "duration": 23,
    "start_time": "2024-06-25T16:12:10.087Z"
   },
   {
    "duration": 19,
    "start_time": "2024-06-25T16:12:10.644Z"
   },
   {
    "duration": 8,
    "start_time": "2024-06-25T16:12:11.616Z"
   },
   {
    "duration": 17,
    "start_time": "2024-06-25T16:12:12.002Z"
   },
   {
    "duration": 19,
    "start_time": "2024-06-25T16:12:12.393Z"
   },
   {
    "duration": 19,
    "start_time": "2024-06-25T16:12:12.601Z"
   },
   {
    "duration": 14,
    "start_time": "2024-06-25T16:12:12.787Z"
   },
   {
    "duration": 32,
    "start_time": "2024-06-25T16:12:13.178Z"
   },
   {
    "duration": 106,
    "start_time": "2024-06-25T16:12:13.765Z"
   },
   {
    "duration": 39,
    "start_time": "2024-06-25T16:12:14.149Z"
   },
   {
    "duration": 419,
    "start_time": "2024-06-25T16:12:14.905Z"
   },
   {
    "duration": 217,
    "start_time": "2024-06-25T16:12:15.327Z"
   },
   {
    "duration": 17,
    "start_time": "2024-06-25T16:12:15.547Z"
   },
   {
    "duration": 155,
    "start_time": "2024-06-25T16:12:15.680Z"
   },
   {
    "duration": 502,
    "start_time": "2024-06-25T16:12:16.454Z"
   },
   {
    "duration": 241,
    "start_time": "2024-06-25T16:12:16.960Z"
   },
   {
    "duration": 17,
    "start_time": "2024-06-25T16:12:17.204Z"
   },
   {
    "duration": 173,
    "start_time": "2024-06-25T16:12:17.225Z"
   },
   {
    "duration": 411,
    "start_time": "2024-06-25T16:12:18.272Z"
   },
   {
    "duration": 214,
    "start_time": "2024-06-25T16:12:18.687Z"
   },
   {
    "duration": 22,
    "start_time": "2024-06-25T16:12:18.904Z"
   },
   {
    "duration": 176,
    "start_time": "2024-06-25T16:12:18.930Z"
   },
   {
    "duration": 452,
    "start_time": "2024-06-25T16:12:21.598Z"
   },
   {
    "duration": 225,
    "start_time": "2024-06-25T16:12:22.053Z"
   },
   {
    "duration": 18,
    "start_time": "2024-06-25T16:12:22.439Z"
   },
   {
    "duration": 153,
    "start_time": "2024-06-25T16:12:22.673Z"
   },
   {
    "duration": 146,
    "start_time": "2024-06-25T16:12:24.815Z"
   },
   {
    "duration": 64,
    "start_time": "2024-06-25T16:12:55.409Z"
   },
   {
    "duration": 40,
    "start_time": "2024-06-25T16:13:20.267Z"
   },
   {
    "duration": 47,
    "start_time": "2024-06-25T16:13:46.535Z"
   }
  ],
  "colab": {
   "provenance": []
  },
  "kernelspec": {
   "display_name": "Python 3 (ipykernel)",
   "language": "python",
   "name": "python3"
  },
  "language_info": {
   "codemirror_mode": {
    "name": "ipython",
    "version": 3
   },
   "file_extension": ".py",
   "mimetype": "text/x-python",
   "name": "python",
   "nbconvert_exporter": "python",
   "pygments_lexer": "ipython3",
   "version": "3.9.19"
  },
  "toc": {
   "base_numbering": 1,
   "nav_menu": {},
   "number_sections": true,
   "sideBar": true,
   "skip_h1_title": false,
   "title_cell": "Table of Contents",
   "title_sidebar": "Contents",
   "toc_cell": false,
   "toc_position": {},
   "toc_section_display": true,
   "toc_window_display": true
  }
 },
 "nbformat": 4,
 "nbformat_minor": 1
}
